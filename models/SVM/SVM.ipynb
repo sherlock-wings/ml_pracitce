{
 "cells": [
  {
   "cell_type": "code",
   "execution_count": 13,
   "metadata": {},
   "outputs": [
    {
     "name": "stdout",
     "output_type": "stream",
     "text": [
      "[[1.305e+01 1.859e+01 8.509e+01 ... 1.258e-01 3.113e-01 8.317e-02]\n",
      " [1.916e+01 2.660e+01 1.262e+02 ... 1.872e-01 3.258e-01 9.720e-02]\n",
      " [1.801e+01 2.056e+01 1.184e+02 ... 1.489e-01 3.251e-01 7.625e-02]\n",
      " ...\n",
      " [9.876e+00 1.940e+01 6.395e+01 ... 9.749e-02 2.622e-01 8.490e-02]\n",
      " [1.281e+01 1.306e+01 8.129e+01 ... 3.990e-02 1.783e-01 7.319e-02]\n",
      " [1.373e+01 2.261e+01 9.360e+01 ... 2.208e-01 3.596e-01 1.431e-01]]\n",
      "[1 0 0 1 0 0 0 0 1 0 1 1 0 1 0 0 1 1 1 1 0 0 0 1 1 1 0 0 1 0 1 1 1 1 1 0 0\n",
      " 1 0 1 0 1 1 1 1 1 1 0 1 0 1 1 0 0 1 1 1 0 1 1 1 1 0 1 1 1 0 1 0 1 1 1 1 1\n",
      " 0 1 0 1 1 1 1 0 0 1 1 1 0 1 0 1 1 1 0 1 1 1 1 1 1 1 0 0 0 1 1 1 1 0 1 1 1\n",
      " 1 1 1 1 1 1 0 0 1 0 1 1 1 0 1 1 1 1 0 1 1 1 1 1 1 1 1 1 1 1 1 0 0 0 0 1 0\n",
      " 0 0 1 0 0 0 1 0 1 1 1 0 1 0 1 1 1 1 1 0 1 1 0 0 1 0 1 0 0 1 0 1 1 1 1 1 1\n",
      " 1 1 0 1 0 0 0 1 1 0 0 1 1 1 1 1 0 0 1 1 1 1 1 0 1 1 1 1 1 0 0 1 1 0 1 0 0\n",
      " 0 1 1 1 1 0 0 1 0 0 0 1 0 0 0 0 0 0 1 1 0 1 1 1 1 0 1 1 0 1 1 1 0 0 1 0 0\n",
      " 0 1 1 0 1 0 0 1 1 0 1 1 0 1 1 1 1 1 1 1 0 1 1 0 1 0 0 0 0 1 1 1 1 1 0 1 1\n",
      " 1 0 0 1 1 1 0 1 1 1 1 1 0 1 1 1 1 1 1 0 0 1 0 0 1 1 0 1 1 1 0 1 0 0 0 1 1\n",
      " 0 0 0 1 1 0 1 0 1 1 1 1 0 0 1 1 0 1 0 1 1 0 1 0 0 1 1 1 1 1 1 1 1 1 0 1 1\n",
      " 0 1 1 0 1 1 1 0 1 1 1 1 0 1 0 0 1 0 1 1 1 0 1 0 1 1 1 0 1 1 1 1 1 0 1 1 1\n",
      " 1 1 1 0 0 0 1 1 1 0 0 0 0 0 0 1 0 0 1 0 1 0 1 1 1 0 1 1 0 0 0 0 0 0 1 0 1\n",
      " 1 1 0 1 1 1 1 0 1 1 0]\n"
     ]
    }
   ],
   "source": [
    "import sklearn\n",
    "from sklearn import datasets\n",
    "from sklearn import svm\n",
    "\n",
    "cancer = datasets.load_breast_cancer()\n",
    "\n",
    "# print(cancer.feature_names)\n",
    "# print(cancer.target_names)\n",
    "\n",
    "x = cancer.data\n",
    "y = cancer.target\n",
    "\n",
    "x_train, x_test, y_train, y_test = sklearn.model_selection.train_test_split(x, y, test_size=0.2)\n",
    "\n",
    "print(x_train)\n",
    "print(y_train)\n",
    "classes = ['malignant', 'benign']"
   ]
  }
 ],
 "metadata": {
  "kernelspec": {
   "display_name": "Python 3",
   "language": "python",
   "name": "python3"
  },
  "language_info": {
   "codemirror_mode": {
    "name": "ipython",
    "version": 3
   },
   "file_extension": ".py",
   "mimetype": "text/x-python",
   "name": "python",
   "nbconvert_exporter": "python",
   "pygments_lexer": "ipython3",
   "version": "3.11.4"
  },
  "orig_nbformat": 4
 },
 "nbformat": 4,
 "nbformat_minor": 2
}
