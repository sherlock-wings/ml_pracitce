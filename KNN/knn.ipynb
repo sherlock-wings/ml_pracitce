{
 "cells": [
  {
   "cell_type": "code",
   "execution_count": 5,
   "metadata": {},
   "outputs": [
    {
     "name": "stdout",
     "output_type": "stream",
     "text": [
      "[2, 0, 2, 2, 0, 2, 2, 1, 2, 0, 1, 2, 2, 0, 2, 2, 3, 2, 2, 1, 2, 2, 0, 0, 2, 0, 0, 2, 0, 2, 2, 2, 0, 2, 2, 2, 2, 2, 0, 2, 0, 2, 2, 2, 2, 2, 3, 0, 0, 0, 1, 0, 2, 2, 2, 1, 1, 0, 2, 2, 3, 2, 1, 0, 0, 3, 2, 0, 0, 2, 2, 2, 0, 3, 0, 2, 0, 2, 2, 0, 2, 0, 2, 2, 2, 2, 2, 2, 2, 0, 2, 0, 2, 2, 2, 0, 0, 3, 2, 2, 2, 2, 2, 0, 2, 0, 2, 0, 2, 2, 0, 2, 2, 2, 2, 2, 2, 3, 2, 1, 0, 0, 2, 0, 2, 2, 2, 2, 2, 2, 2, 0, 2, 1, 2, 2, 0, 1, 2, 0, 0, 0, 0, 2, 2, 2, 0, 2, 2, 2, 2, 2, 2, 2, 0, 2, 3, 0, 2, 0, 0, 2, 2, 2, 2, 0, 2, 1, 2, 0, 2, 2, 2]\n"
     ]
    }
   ],
   "source": [
    "import pandas as pd\n",
    "import numpy as np\n",
    "import sklearn\n",
    "from sklearn.neighbors import KNeighborsClassifier\n",
    "from sklearn import linear_model, preprocessing\n",
    "\n",
    "data = pd.read_csv('C:\\pcallahanProjects\\ml_practice\\data\\carEvaluation\\car.data')\n",
    "le = preprocessing.LabelEncoder()\n",
    "buying = le.fit_transform(list(data['buying']))\n",
    "maint = le.fit_transform(list(data['maint']))\n",
    "door = le.fit_transform(list(data['door']))\n",
    "persons = le.fit_transform(list(data['persons']))\n",
    "lug_boot = le.fit_transform(list(data['lug_boot']))\n",
    "safety = le.fit_transform(list(data['safety']))\n",
    "cls = le.fit_transform(list(data['class']))\n",
    "\n",
    "predict = \"class\"\n",
    "## comments\n",
    "\n",
    "X = list(zip(buying, maint, door, persons, lug_boot, safety))\n",
    "Y = list(cls)\n",
    "\n",
    "x_train, x_test, y_train, y_test = sklearn.model_selection.train_test_split(X, Y, test_size = 0.1)\n",
    "\n",
    "print(y_test)"
   ]
  }
 ],
 "metadata": {
  "kernelspec": {
   "display_name": "Python 3",
   "language": "python",
   "name": "python3"
  },
  "language_info": {
   "codemirror_mode": {
    "name": "ipython",
    "version": 3
   },
   "file_extension": ".py",
   "mimetype": "text/x-python",
   "name": "python",
   "nbconvert_exporter": "python",
   "pygments_lexer": "ipython3",
   "version": "3.11.4"
  },
  "orig_nbformat": 4
 },
 "nbformat": 4,
 "nbformat_minor": 2
}
